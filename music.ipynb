{
 "cells": [
  {
   "cell_type": "code",
   "execution_count": 1,
   "id": "4e858e0b",
   "metadata": {},
   "outputs": [],
   "source": [
    "import numpy as np\n",
    "import pandas as pd\n",
    "import matplotlib.pyplot as plt\n",
    "import seaborn as sb\n",
    " \n",
    "from sklearn.metrics.pairwise import cosine_similarity\n",
    "from sklearn.feature_extraction.text import CountVectorizer\n",
    "from sklearn.manifold import TSNE\n",
    " \n",
    "import warnings\n",
    "warnings.filterwarnings('ignore')"
   ]
  },
  {
   "cell_type": "code",
   "execution_count": 2,
   "id": "b973ee02",
   "metadata": {},
   "outputs": [
    {
     "data": {
      "text/html": [
       "<div>\n",
       "<style scoped>\n",
       "    .dataframe tbody tr th:only-of-type {\n",
       "        vertical-align: middle;\n",
       "    }\n",
       "\n",
       "    .dataframe tbody tr th {\n",
       "        vertical-align: top;\n",
       "    }\n",
       "\n",
       "    .dataframe thead th {\n",
       "        text-align: right;\n",
       "    }\n",
       "</style>\n",
       "<table border=\"1\" class=\"dataframe\">\n",
       "  <thead>\n",
       "    <tr style=\"text-align: right;\">\n",
       "      <th></th>\n",
       "      <th>id</th>\n",
       "      <th>name</th>\n",
       "      <th>artists</th>\n",
       "      <th>id_artists</th>\n",
       "      <th>genres</th>\n",
       "      <th>release_year</th>\n",
       "      <th>duration_s</th>\n",
       "      <th>popularity</th>\n",
       "      <th>danceability</th>\n",
       "      <th>energy</th>\n",
       "      <th>key</th>\n",
       "      <th>loudness</th>\n",
       "      <th>mode</th>\n",
       "      <th>speechiness</th>\n",
       "      <th>acousticness</th>\n",
       "      <th>instrumentalness</th>\n",
       "      <th>liveness</th>\n",
       "      <th>valence</th>\n",
       "      <th>tempo</th>\n",
       "    </tr>\n",
       "  </thead>\n",
       "  <tbody>\n",
       "    <tr>\n",
       "      <th>0</th>\n",
       "      <td>35iwgR4jXetI318WEWsa1Q</td>\n",
       "      <td>Carve</td>\n",
       "      <td>Uli</td>\n",
       "      <td>['45tIt06XoI0Iio4LBEVpls']</td>\n",
       "      <td>NaN</td>\n",
       "      <td>1922</td>\n",
       "      <td>126.903</td>\n",
       "      <td>6</td>\n",
       "      <td>0.645</td>\n",
       "      <td>0.4450</td>\n",
       "      <td>0</td>\n",
       "      <td>46.662</td>\n",
       "      <td>1</td>\n",
       "      <td>0.4510</td>\n",
       "      <td>0.674</td>\n",
       "      <td>0.7440</td>\n",
       "      <td>0.151</td>\n",
       "      <td>0.127</td>\n",
       "      <td>104.851</td>\n",
       "    </tr>\n",
       "    <tr>\n",
       "      <th>1</th>\n",
       "      <td>021ht4sdgPcrDgSk7JTbKY</td>\n",
       "      <td>Capítulo 2.16 - Banquero Anarquista</td>\n",
       "      <td>Fernando Pessoa</td>\n",
       "      <td>['14jtPCOoNZwquk5wd9DxrY']</td>\n",
       "      <td>NaN</td>\n",
       "      <td>1922</td>\n",
       "      <td>98.200</td>\n",
       "      <td>0</td>\n",
       "      <td>0.695</td>\n",
       "      <td>0.2630</td>\n",
       "      <td>0</td>\n",
       "      <td>37.864</td>\n",
       "      <td>1</td>\n",
       "      <td>0.9570</td>\n",
       "      <td>0.797</td>\n",
       "      <td>0.0000</td>\n",
       "      <td>0.148</td>\n",
       "      <td>0.655</td>\n",
       "      <td>102.009</td>\n",
       "    </tr>\n",
       "    <tr>\n",
       "      <th>2</th>\n",
       "      <td>07A5yehtSnoedViJAZkNnc</td>\n",
       "      <td>Vivo para Quererte - Remasterizado</td>\n",
       "      <td>Ignacio Corsini</td>\n",
       "      <td>['5LiOoJbxVSAMkBS2fUm3X2']</td>\n",
       "      <td>tango vintage tango</td>\n",
       "      <td>1922</td>\n",
       "      <td>181.640</td>\n",
       "      <td>0</td>\n",
       "      <td>0.434</td>\n",
       "      <td>0.1770</td>\n",
       "      <td>1</td>\n",
       "      <td>38.820</td>\n",
       "      <td>1</td>\n",
       "      <td>0.0512</td>\n",
       "      <td>0.994</td>\n",
       "      <td>0.0218</td>\n",
       "      <td>0.212</td>\n",
       "      <td>0.457</td>\n",
       "      <td>130.418</td>\n",
       "    </tr>\n",
       "    <tr>\n",
       "      <th>3</th>\n",
       "      <td>08FmqUhxtyLTn6pAh6bk45</td>\n",
       "      <td>El Prisionero - Remasterizado</td>\n",
       "      <td>Ignacio Corsini</td>\n",
       "      <td>['5LiOoJbxVSAMkBS2fUm3X2']</td>\n",
       "      <td>tango vintage tango</td>\n",
       "      <td>1922</td>\n",
       "      <td>176.907</td>\n",
       "      <td>0</td>\n",
       "      <td>0.321</td>\n",
       "      <td>0.0946</td>\n",
       "      <td>7</td>\n",
       "      <td>32.039</td>\n",
       "      <td>1</td>\n",
       "      <td>0.0504</td>\n",
       "      <td>0.995</td>\n",
       "      <td>0.9180</td>\n",
       "      <td>0.104</td>\n",
       "      <td>0.397</td>\n",
       "      <td>169.980</td>\n",
       "    </tr>\n",
       "    <tr>\n",
       "      <th>4</th>\n",
       "      <td>08y9GfoqCWfOGsKdwojr5e</td>\n",
       "      <td>Lady of the Evening</td>\n",
       "      <td>Dick Haymes</td>\n",
       "      <td>['3BiJGZsyX9sJchTqcSA7Su']</td>\n",
       "      <td>adult standards big band easy listening lounge...</td>\n",
       "      <td>1922</td>\n",
       "      <td>163.080</td>\n",
       "      <td>0</td>\n",
       "      <td>0.402</td>\n",
       "      <td>0.1580</td>\n",
       "      <td>3</td>\n",
       "      <td>43.100</td>\n",
       "      <td>0</td>\n",
       "      <td>0.0390</td>\n",
       "      <td>0.989</td>\n",
       "      <td>0.1300</td>\n",
       "      <td>0.311</td>\n",
       "      <td>0.196</td>\n",
       "      <td>103.220</td>\n",
       "    </tr>\n",
       "  </tbody>\n",
       "</table>\n",
       "</div>"
      ],
      "text/plain": [
       "                       id                                 name  \\\n",
       "0  35iwgR4jXetI318WEWsa1Q                                Carve   \n",
       "1  021ht4sdgPcrDgSk7JTbKY  Capítulo 2.16 - Banquero Anarquista   \n",
       "2  07A5yehtSnoedViJAZkNnc   Vivo para Quererte - Remasterizado   \n",
       "3  08FmqUhxtyLTn6pAh6bk45        El Prisionero - Remasterizado   \n",
       "4  08y9GfoqCWfOGsKdwojr5e                  Lady of the Evening   \n",
       "\n",
       "           artists                  id_artists  \\\n",
       "0              Uli  ['45tIt06XoI0Iio4LBEVpls']   \n",
       "1  Fernando Pessoa  ['14jtPCOoNZwquk5wd9DxrY']   \n",
       "2  Ignacio Corsini  ['5LiOoJbxVSAMkBS2fUm3X2']   \n",
       "3  Ignacio Corsini  ['5LiOoJbxVSAMkBS2fUm3X2']   \n",
       "4      Dick Haymes  ['3BiJGZsyX9sJchTqcSA7Su']   \n",
       "\n",
       "                                              genres  release_year  \\\n",
       "0                                                NaN          1922   \n",
       "1                                                NaN          1922   \n",
       "2                                tango vintage tango          1922   \n",
       "3                                tango vintage tango          1922   \n",
       "4  adult standards big band easy listening lounge...          1922   \n",
       "\n",
       "   duration_s  popularity  danceability  energy  key  loudness  mode  \\\n",
       "0     126.903           6         0.645  0.4450    0    46.662     1   \n",
       "1      98.200           0         0.695  0.2630    0    37.864     1   \n",
       "2     181.640           0         0.434  0.1770    1    38.820     1   \n",
       "3     176.907           0         0.321  0.0946    7    32.039     1   \n",
       "4     163.080           0         0.402  0.1580    3    43.100     0   \n",
       "\n",
       "   speechiness  acousticness  instrumentalness  liveness  valence    tempo  \n",
       "0       0.4510         0.674            0.7440     0.151    0.127  104.851  \n",
       "1       0.9570         0.797            0.0000     0.148    0.655  102.009  \n",
       "2       0.0512         0.994            0.0218     0.212    0.457  130.418  \n",
       "3       0.0504         0.995            0.9180     0.104    0.397  169.980  \n",
       "4       0.0390         0.989            0.1300     0.311    0.196  103.220  "
      ]
     },
     "execution_count": 2,
     "metadata": {},
     "output_type": "execute_result"
    }
   ],
   "source": [
    "tracks = pd.read_csv('tracks_records.csv')\n",
    "tracks.head()"
   ]
  },
  {
   "cell_type": "code",
   "execution_count": 3,
   "id": "63d817e0",
   "metadata": {},
   "outputs": [
    {
     "data": {
      "text/plain": [
       "<bound method DataFrame.info of                             id                                 name  \\\n",
       "0       35iwgR4jXetI318WEWsa1Q                                Carve   \n",
       "1       021ht4sdgPcrDgSk7JTbKY  Capítulo 2.16 - Banquero Anarquista   \n",
       "2       07A5yehtSnoedViJAZkNnc   Vivo para Quererte - Remasterizado   \n",
       "3       08FmqUhxtyLTn6pAh6bk45        El Prisionero - Remasterizado   \n",
       "4       08y9GfoqCWfOGsKdwojr5e                  Lady of the Evening   \n",
       "...                        ...                                  ...   \n",
       "586667  5rgu12WBIHQtvej2MdHSH0                                  云与海   \n",
       "586668  0NuWgxEp51CutD2pJoF4OM                                blind   \n",
       "586669  27Y1N4Q4U3EfDU5Ubw8ws2            What They'll Say About Us   \n",
       "586670  45XJsGpFTyzbzeWK8VzR8S                      A Day At A Time   \n",
       "586671  5Ocn6dZ3BJFPWh4ylwFXtn                     Mar de Emociones   \n",
       "\n",
       "                          artists  \\\n",
       "0                             Uli   \n",
       "1                 Fernando Pessoa   \n",
       "2                 Ignacio Corsini   \n",
       "3                 Ignacio Corsini   \n",
       "4                     Dick Haymes   \n",
       "...                           ...   \n",
       "586667                    阿YueYue   \n",
       "586668                 ROLE MODEL   \n",
       "586669                    FINNEAS   \n",
       "586670  Gentle Bones, Clara Benin   \n",
       "586671                  Afrosound   \n",
       "\n",
       "                                               id_artists  \\\n",
       "0                              ['45tIt06XoI0Iio4LBEVpls']   \n",
       "1                              ['14jtPCOoNZwquk5wd9DxrY']   \n",
       "2                              ['5LiOoJbxVSAMkBS2fUm3X2']   \n",
       "3                              ['5LiOoJbxVSAMkBS2fUm3X2']   \n",
       "4                              ['3BiJGZsyX9sJchTqcSA7Su']   \n",
       "...                                                   ...   \n",
       "586667                         ['1QLBXKM5GCpyQQSVMNZqrZ']   \n",
       "586668                         ['1dy5WNgIKQU6ezkpZs4y8z']   \n",
       "586669                         ['37M5pPGs6V1fchFJSgCguX']   \n",
       "586670  ['4jGPdu95icCKVF31CcFKbS', '5ebPSE9YI5aLeZ1Z2g...   \n",
       "586671                         ['0i4Qda0k4nf7jnNHmSNpYv']   \n",
       "\n",
       "                                                   genres  release_year  \\\n",
       "0                                                     NaN          1922   \n",
       "1                                                     NaN          1922   \n",
       "2                                     tango vintage tango          1922   \n",
       "3                                     tango vintage tango          1922   \n",
       "4       adult standards big band easy listening lounge...          1922   \n",
       "...                                                   ...           ...   \n",
       "586667                                  chinese viral pop          2020   \n",
       "586668  alt z alternative rb bedroom pop indie cafe po...          2020   \n",
       "586669  alt z electropop indie pop la indie pop postte...          2020   \n",
       "586670  chill rb indie cafe pop singaporean pop opm pi...          2021   \n",
       "586671                             chicha cumbia nucumbia          2015   \n",
       "\n",
       "        duration_s  popularity  danceability  energy  key  loudness  mode  \\\n",
       "0          126.903           6         0.645  0.4450    0    46.662     1   \n",
       "1           98.200           0         0.695  0.2630    0    37.864     1   \n",
       "2          181.640           0         0.434  0.1770    1    38.820     1   \n",
       "3          176.907           0         0.321  0.0946    7    32.039     1   \n",
       "4          163.080           0         0.402  0.1580    3    43.100     0   \n",
       "...            ...         ...           ...     ...  ...       ...   ...   \n",
       "586667     258.267          50         0.560  0.5180    0    52.529     0   \n",
       "586668     153.293          72         0.765  0.6630    0    54.777     1   \n",
       "586669     187.601          70         0.535  0.3140    7    47.177     0   \n",
       "586670     142.003          58         0.696  0.6150   10    53.788     1   \n",
       "586671     214.360          38         0.686  0.7230    6    52.933     1   \n",
       "\n",
       "        speechiness  acousticness  instrumentalness  liveness  valence  \\\n",
       "0            0.4510         0.674          0.744000    0.1510   0.1270   \n",
       "1            0.9570         0.797          0.000000    0.1480   0.6550   \n",
       "2            0.0512         0.994          0.021800    0.2120   0.4570   \n",
       "3            0.0504         0.995          0.918000    0.1040   0.3970   \n",
       "4            0.0390         0.989          0.130000    0.3110   0.1960   \n",
       "...             ...           ...               ...       ...      ...   \n",
       "586667       0.0292         0.785          0.000000    0.0648   0.2110   \n",
       "586668       0.0652         0.141          0.000297    0.0924   0.6860   \n",
       "586669       0.0408         0.895          0.000150    0.0874   0.0663   \n",
       "586670       0.0345         0.206          0.000003    0.3050   0.4380   \n",
       "586671       0.0363         0.105          0.000000    0.2640   0.9750   \n",
       "\n",
       "          tempo  \n",
       "0       104.851  \n",
       "1       102.009  \n",
       "2       130.418  \n",
       "3       169.980  \n",
       "4       103.220  \n",
       "...         ...  \n",
       "586667  131.896  \n",
       "586668  150.091  \n",
       "586669  145.095  \n",
       "586670   90.029  \n",
       "586671  112.204  \n",
       "\n",
       "[586672 rows x 19 columns]>"
      ]
     },
     "execution_count": 3,
     "metadata": {},
     "output_type": "execute_result"
    }
   ],
   "source": [
    "tracks.info"
   ]
  },
  {
   "cell_type": "code",
   "execution_count": 4,
   "id": "302213fb",
   "metadata": {},
   "outputs": [
    {
     "data": {
      "image/png": "[encoded data removed]",
      "text/plain": [
       "<Figure size 432x288 with 1 Axes>"
      ]
     },
     "metadata": {
      "needs_background": "light"
     },
     "output_type": "display_data"
    }
   ],
   "source": [
    "tracks.dropna(inplace = True)\n",
    "tracks.isnull().sum().plot.bar()\n",
    "plt.show()"
   ]
  },
  {
   "cell_type": "code",
   "execution_count": 5,
   "id": "6abde59f",
   "metadata": {},
   "outputs": [],
   "source": [
    "tracks = tracks.drop(['id', 'id_artists'], axis = 1)"
   ]
  },
  {
   "cell_type": "code",
   "execution_count": 6,
   "id": "70216e99",
   "metadata": {},
   "outputs": [
    {
     "ename": "ValueError",
     "evalue": "could not convert string to float: 'Vivo para Quererte - Remasterizado'",
     "output_type": "error",
     "traceback": [
      "\u001b[0;31m---------------------------------------------------------------------------\u001b[0m",
      "\u001b[0;31mValueError\u001b[0m                                Traceback (most recent call last)",
      "\u001b[0;32m/tmp/ipykernel_863/3614581137.py\u001b[0m in \u001b[0;36m<module>\u001b[0;34m\u001b[0m\n\u001b[1;32m      1\u001b[0m \u001b[0mmodel\u001b[0m \u001b[0;34m=\u001b[0m \u001b[0mTSNE\u001b[0m\u001b[0;34m(\u001b[0m\u001b[0mn_components\u001b[0m \u001b[0;34m=\u001b[0m \u001b[0;36m2\u001b[0m\u001b[0;34m,\u001b[0m \u001b[0mrandom_state\u001b[0m \u001b[0;34m=\u001b[0m \u001b[0;36m0\u001b[0m\u001b[0;34m)\u001b[0m\u001b[0;34m\u001b[0m\u001b[0;34m\u001b[0m\u001b[0m\n\u001b[0;32m----> 2\u001b[0;31m \u001b[0mtsne_data\u001b[0m \u001b[0;34m=\u001b[0m \u001b[0mmodel\u001b[0m\u001b[0;34m.\u001b[0m\u001b[0mfit_transform\u001b[0m\u001b[0;34m(\u001b[0m\u001b[0mtracks\u001b[0m\u001b[0;34m.\u001b[0m\u001b[0mhead\u001b[0m\u001b[0;34m(\u001b[0m\u001b[0;36m500\u001b[0m\u001b[0;34m)\u001b[0m\u001b[0;34m)\u001b[0m\u001b[0;34m\u001b[0m\u001b[0;34m\u001b[0m\u001b[0m\n\u001b[0m\u001b[1;32m      3\u001b[0m \u001b[0mplt\u001b[0m\u001b[0;34m.\u001b[0m\u001b[0mfigure\u001b[0m\u001b[0;34m(\u001b[0m\u001b[0mfigsize\u001b[0m \u001b[0;34m=\u001b[0m \u001b[0;34m(\u001b[0m\u001b[0;36m7\u001b[0m\u001b[0;34m,\u001b[0m \u001b[0;36m7\u001b[0m\u001b[0;34m)\u001b[0m\u001b[0;34m)\u001b[0m\u001b[0;34m\u001b[0m\u001b[0;34m\u001b[0m\u001b[0m\n\u001b[1;32m      4\u001b[0m \u001b[0mplt\u001b[0m\u001b[0;34m.\u001b[0m\u001b[0mscatter\u001b[0m\u001b[0;34m(\u001b[0m\u001b[0mtsne_data\u001b[0m\u001b[0;34m[\u001b[0m\u001b[0;34m:\u001b[0m\u001b[0;34m,\u001b[0m\u001b[0;36m0\u001b[0m\u001b[0;34m]\u001b[0m\u001b[0;34m,\u001b[0m \u001b[0mtsne_data\u001b[0m\u001b[0;34m[\u001b[0m\u001b[0;34m:\u001b[0m\u001b[0;34m,\u001b[0m\u001b[0;36m1\u001b[0m\u001b[0;34m]\u001b[0m\u001b[0;34m)\u001b[0m\u001b[0;34m\u001b[0m\u001b[0;34m\u001b[0m\u001b[0m\n\u001b[1;32m      5\u001b[0m \u001b[0mplt\u001b[0m\u001b[0;34m.\u001b[0m\u001b[0mshow\u001b[0m\u001b[0;34m(\u001b[0m\u001b[0;34m)\u001b[0m\u001b[0;34m\u001b[0m\u001b[0;34m\u001b[0m\u001b[0m\n",
      "\u001b[0;32m/opt/conda/lib/python3.9/site-packages/sklearn/manifold/_t_sne.py\u001b[0m in \u001b[0;36mfit_transform\u001b[0;34m(self, X, y)\u001b[0m\n\u001b[1;32m    930\u001b[0m             \u001b[0mEmbedding\u001b[0m \u001b[0mof\u001b[0m \u001b[0mthe\u001b[0m \u001b[0mtraining\u001b[0m \u001b[0mdata\u001b[0m \u001b[0;32min\u001b[0m \u001b[0mlow\u001b[0m\u001b[0;34m-\u001b[0m\u001b[0mdimensional\u001b[0m \u001b[0mspace\u001b[0m\u001b[0;34m.\u001b[0m\u001b[0;34m\u001b[0m\u001b[0;34m\u001b[0m\u001b[0m\n\u001b[1;32m    931\u001b[0m         \"\"\"\n\u001b[0;32m--> 932\u001b[0;31m         \u001b[0membedding\u001b[0m \u001b[0;34m=\u001b[0m \u001b[0mself\u001b[0m\u001b[0;34m.\u001b[0m\u001b[0m_fit\u001b[0m\u001b[0;34m(\u001b[0m\u001b[0mX\u001b[0m\u001b[0;34m)\u001b[0m\u001b[0;34m\u001b[0m\u001b[0;34m\u001b[0m\u001b[0m\n\u001b[0m\u001b[1;32m    933\u001b[0m         \u001b[0mself\u001b[0m\u001b[0;34m.\u001b[0m\u001b[0membedding_\u001b[0m \u001b[0;34m=\u001b[0m \u001b[0membedding\u001b[0m\u001b[0;34m\u001b[0m\u001b[0;34m\u001b[0m\u001b[0m\n\u001b[1;32m    934\u001b[0m         \u001b[0;32mreturn\u001b[0m \u001b[0mself\u001b[0m\u001b[0;34m.\u001b[0m\u001b[0membedding_\u001b[0m\u001b[0;34m\u001b[0m\u001b[0;34m\u001b[0m\u001b[0m\n",
      "\u001b[0;32m/opt/conda/lib/python3.9/site-packages/sklearn/manifold/_t_sne.py\u001b[0m in \u001b[0;36m_fit\u001b[0;34m(self, X, skip_num_points)\u001b[0m\n\u001b[1;32m    700\u001b[0m             )\n\u001b[1;32m    701\u001b[0m         \u001b[0;32mif\u001b[0m \u001b[0mself\u001b[0m\u001b[0;34m.\u001b[0m\u001b[0mmethod\u001b[0m \u001b[0;34m==\u001b[0m \u001b[0;34m'barnes_hut'\u001b[0m\u001b[0;34m:\u001b[0m\u001b[0;34m\u001b[0m\u001b[0;34m\u001b[0m\u001b[0m\n\u001b[0;32m--> 702\u001b[0;31m             X = self._validate_data(X, accept_sparse=['csr'],\n\u001b[0m\u001b[1;32m    703\u001b[0m                                     \u001b[0mensure_min_samples\u001b[0m\u001b[0;34m=\u001b[0m\u001b[0;36m2\u001b[0m\u001b[0;34m,\u001b[0m\u001b[0;34m\u001b[0m\u001b[0;34m\u001b[0m\u001b[0m\n\u001b[1;32m    704\u001b[0m                                     dtype=[np.float32, np.float64])\n",
      "\u001b[0;32m/opt/conda/lib/python3.9/site-packages/sklearn/base.py\u001b[0m in \u001b[0;36m_validate_data\u001b[0;34m(self, X, y, reset, validate_separately, **check_params)\u001b[0m\n\u001b[1;32m    419\u001b[0m             \u001b[0mout\u001b[0m \u001b[0;34m=\u001b[0m \u001b[0mX\u001b[0m\u001b[0;34m\u001b[0m\u001b[0;34m\u001b[0m\u001b[0m\n\u001b[1;32m    420\u001b[0m         \u001b[0;32melif\u001b[0m \u001b[0misinstance\u001b[0m\u001b[0;34m(\u001b[0m\u001b[0my\u001b[0m\u001b[0;34m,\u001b[0m \u001b[0mstr\u001b[0m\u001b[0;34m)\u001b[0m \u001b[0;32mand\u001b[0m \u001b[0my\u001b[0m \u001b[0;34m==\u001b[0m \u001b[0;34m'no_validation'\u001b[0m\u001b[0;34m:\u001b[0m\u001b[0;34m\u001b[0m\u001b[0;34m\u001b[0m\u001b[0m\n\u001b[0;32m--> 421\u001b[0;31m             \u001b[0mX\u001b[0m \u001b[0;34m=\u001b[0m \u001b[0mcheck_array\u001b[0m\u001b[0;34m(\u001b[0m\u001b[0mX\u001b[0m\u001b[0;34m,\u001b[0m \u001b[0;34m**\u001b[0m\u001b[0mcheck_params\u001b[0m\u001b[0;34m)\u001b[0m\u001b[0;34m\u001b[0m\u001b[0;34m\u001b[0m\u001b[0m\n\u001b[0m\u001b[1;32m    422\u001b[0m             \u001b[0mout\u001b[0m \u001b[0;34m=\u001b[0m \u001b[0mX\u001b[0m\u001b[0;34m\u001b[0m\u001b[0;34m\u001b[0m\u001b[0m\n\u001b[1;32m    423\u001b[0m         \u001b[0;32melse\u001b[0m\u001b[0;34m:\u001b[0m\u001b[0;34m\u001b[0m\u001b[0;34m\u001b[0m\u001b[0m\n",
      "\u001b[0;32m/opt/conda/lib/python3.9/site-packages/sklearn/utils/validation.py\u001b[0m in \u001b[0;36minner_f\u001b[0;34m(*args, **kwargs)\u001b[0m\n\u001b[1;32m     61\u001b[0m             \u001b[0mextra_args\u001b[0m \u001b[0;34m=\u001b[0m \u001b[0mlen\u001b[0m\u001b[0;34m(\u001b[0m\u001b[0margs\u001b[0m\u001b[0;34m)\u001b[0m \u001b[0;34m-\u001b[0m \u001b[0mlen\u001b[0m\u001b[0;34m(\u001b[0m\u001b[0mall_args\u001b[0m\u001b[0;34m)\u001b[0m\u001b[0;34m\u001b[0m\u001b[0;34m\u001b[0m\u001b[0m\n\u001b[1;32m     62\u001b[0m             \u001b[0;32mif\u001b[0m \u001b[0mextra_args\u001b[0m \u001b[0;34m<=\u001b[0m \u001b[0;36m0\u001b[0m\u001b[0;34m:\u001b[0m\u001b[0;34m\u001b[0m\u001b[0;34m\u001b[0m\u001b[0m\n\u001b[0;32m---> 63\u001b[0;31m                 \u001b[0;32mreturn\u001b[0m \u001b[0mf\u001b[0m\u001b[0;34m(\u001b[0m\u001b[0;34m*\u001b[0m\u001b[0margs\u001b[0m\u001b[0;34m,\u001b[0m \u001b[0;34m**\u001b[0m\u001b[0mkwargs\u001b[0m\u001b[0;34m)\u001b[0m\u001b[0;34m\u001b[0m\u001b[0;34m\u001b[0m\u001b[0m\n\u001b[0m\u001b[1;32m     64\u001b[0m \u001b[0;34m\u001b[0m\u001b[0m\n\u001b[1;32m     65\u001b[0m             \u001b[0;31m# extra_args > 0\u001b[0m\u001b[0;34m\u001b[0m\u001b[0;34m\u001b[0m\u001b[0;34m\u001b[0m\u001b[0m\n",
      "\u001b[0;32m/opt/conda/lib/python3.9/site-packages/sklearn/utils/validation.py\u001b[0m in \u001b[0;36mcheck_array\u001b[0;34m(array, accept_sparse, accept_large_sparse, dtype, order, copy, force_all_finite, ensure_2d, allow_nd, ensure_min_samples, ensure_min_features, estimator)\u001b[0m\n\u001b[1;32m    671\u001b[0m                     \u001b[0marray\u001b[0m \u001b[0;34m=\u001b[0m \u001b[0marray\u001b[0m\u001b[0;34m.\u001b[0m\u001b[0mastype\u001b[0m\u001b[0;34m(\u001b[0m\u001b[0mdtype\u001b[0m\u001b[0;34m,\u001b[0m \u001b[0mcasting\u001b[0m\u001b[0;34m=\u001b[0m\u001b[0;34m\"unsafe\"\u001b[0m\u001b[0;34m,\u001b[0m \u001b[0mcopy\u001b[0m\u001b[0;34m=\u001b[0m\u001b[0;32mFalse\u001b[0m\u001b[0;34m)\u001b[0m\u001b[0;34m\u001b[0m\u001b[0;34m\u001b[0m\u001b[0m\n\u001b[1;32m    672\u001b[0m                 \u001b[0;32melse\u001b[0m\u001b[0;34m:\u001b[0m\u001b[0;34m\u001b[0m\u001b[0;34m\u001b[0m\u001b[0m\n\u001b[0;32m--> 673\u001b[0;31m                     \u001b[0marray\u001b[0m \u001b[0;34m=\u001b[0m \u001b[0mnp\u001b[0m\u001b[0;34m.\u001b[0m\u001b[0masarray\u001b[0m\u001b[0;34m(\u001b[0m\u001b[0marray\u001b[0m\u001b[0;34m,\u001b[0m \u001b[0morder\u001b[0m\u001b[0;34m=\u001b[0m\u001b[0morder\u001b[0m\u001b[0;34m,\u001b[0m \u001b[0mdtype\u001b[0m\u001b[0;34m=\u001b[0m\u001b[0mdtype\u001b[0m\u001b[0;34m)\u001b[0m\u001b[0;34m\u001b[0m\u001b[0;34m\u001b[0m\u001b[0m\n\u001b[0m\u001b[1;32m    674\u001b[0m             \u001b[0;32mexcept\u001b[0m \u001b[0mComplexWarning\u001b[0m \u001b[0;32mas\u001b[0m \u001b[0mcomplex_warning\u001b[0m\u001b[0;34m:\u001b[0m\u001b[0;34m\u001b[0m\u001b[0;34m\u001b[0m\u001b[0m\n\u001b[1;32m    675\u001b[0m                 raise ValueError(\"Complex data not supported\\n\"\n",
      "\u001b[0;32m~/.local/lib/python3.9/site-packages/pandas/core/generic.py\u001b[0m in \u001b[0;36m__array__\u001b[0;34m(self, dtype)\u001b[0m\n\u001b[1;32m   2068\u001b[0m \u001b[0;34m\u001b[0m\u001b[0m\n\u001b[1;32m   2069\u001b[0m     \u001b[0;32mdef\u001b[0m \u001b[0m__array__\u001b[0m\u001b[0;34m(\u001b[0m\u001b[0mself\u001b[0m\u001b[0;34m,\u001b[0m \u001b[0mdtype\u001b[0m\u001b[0;34m:\u001b[0m \u001b[0mnpt\u001b[0m\u001b[0;34m.\u001b[0m\u001b[0mDTypeLike\u001b[0m \u001b[0;34m|\u001b[0m \u001b[0;32mNone\u001b[0m \u001b[0;34m=\u001b[0m \u001b[0;32mNone\u001b[0m\u001b[0;34m)\u001b[0m \u001b[0;34m->\u001b[0m \u001b[0mnp\u001b[0m\u001b[0;34m.\u001b[0m\u001b[0mndarray\u001b[0m\u001b[0;34m:\u001b[0m\u001b[0;34m\u001b[0m\u001b[0;34m\u001b[0m\u001b[0m\n\u001b[0;32m-> 2070\u001b[0;31m         \u001b[0;32mreturn\u001b[0m \u001b[0mnp\u001b[0m\u001b[0;34m.\u001b[0m\u001b[0masarray\u001b[0m\u001b[0;34m(\u001b[0m\u001b[0mself\u001b[0m\u001b[0;34m.\u001b[0m\u001b[0m_values\u001b[0m\u001b[0;34m,\u001b[0m \u001b[0mdtype\u001b[0m\u001b[0;34m=\u001b[0m\u001b[0mdtype\u001b[0m\u001b[0;34m)\u001b[0m\u001b[0;34m\u001b[0m\u001b[0;34m\u001b[0m\u001b[0m\n\u001b[0m\u001b[1;32m   2071\u001b[0m \u001b[0;34m\u001b[0m\u001b[0m\n\u001b[1;32m   2072\u001b[0m     def __array_wrap__(\n",
      "\u001b[0;31mValueError\u001b[0m: could not convert string to float: 'Vivo para Quererte - Remasterizado'"
     ]
    }
   ],
   "source": [
    "model = TSNE(n_components = 2, random_state = 0)\n",
    "tsne_data = model.fit_transform(tracks.head(500))\n",
    "plt.figure(figsize = (7, 7))\n",
    "plt.scatter(tsne_data[:,0], tsne_data[:,1])\n",
    "plt.show()"
   ]
  },
  {
   "cell_type": "code",
   "execution_count": 7,
   "id": "e3e55f50",
   "metadata": {},
   "outputs": [
    {
     "data": {
      "text/plain": [
       "(408902, (536847, 17))"
      ]
     },
     "execution_count": 7,
     "metadata": {},
     "output_type": "execute_result"
    }
   ],
   "source": [
    "tracks['name'].nunique(), tracks.shape"
   ]
  },
  {
   "cell_type": "code",
   "execution_count": 8,
   "id": "348cb9e8",
   "metadata": {},
   "outputs": [],
   "source": [
    "tracks = tracks.sort_values(by=['popularity'], ascending=False)\n",
    "tracks.drop_duplicates(subset=['name'], keep='first', inplace=True)"
   ]
  },
  {
   "cell_type": "code",
   "execution_count": 13,
   "id": "43878a34",
   "metadata": {},
   "outputs": [
    {
     "data": {
      "image/png": "[encoded data removed]",
      "text/plain": [
       "<Figure size 720x360 with 1 Axes>"
      ]
     },
     "metadata": {
      "needs_background": "light"
     },
     "output_type": "display_data"
    }
   ],
   "source": [
    " plt.figure(figsize = (10, 5))\n",
    "sb.countplot(tracks['release_year'])\n",
    "plt.axis('on')\n",
    "plt.show()"
   ]
  },
  {
   "cell_type": "code",
   "execution_count": 14,
   "id": "32fa6967",
   "metadata": {},
   "outputs": [
    {
     "data": {
      "text/plain": [
       "10"
      ]
     },
     "execution_count": 14,
     "metadata": {},
     "output_type": "execute_result"
    }
   ],
   "source": [
    "floats = []\n",
    "for col in tracks.columns:\n",
    "    if tracks[col].dtype == 'float':\n",
    "        floats.append(col)\n",
    " \n",
    "len(floats)"
   ]
  },
  {
   "cell_type": "code",
   "execution_count": 15,
   "id": "f88fd5da",
   "metadata": {},
   "outputs": [
    {
     "data": {
      "image/png": "[encoded data removed]",
      "text/plain": [
       "<Figure size 1080x360 with 10 Axes>"
      ]
     },
     "metadata": {
      "needs_background": "light"
     },
     "output_type": "display_data"
    }
   ],
   "source": [
    "plt.subplots(figsize = (15, 5))\n",
    "for i, col in enumerate(floats):\n",
    "  plt.subplot(2, 5, i + 1)\n",
    "  sb.distplot(tracks[col])\n",
    "plt.tight_layout()\n",
    "plt.show()"
   ]
  },
  {
   "cell_type": "code",
   "execution_count": 16,
   "id": "19e4d8ba",
   "metadata": {},
   "outputs": [],
   "source": [
    "%%capture\n",
    "song_vectorizer = CountVectorizer()\n",
    "song_vectorizer.fit(tracks['genres'])"
   ]
  },
  {
   "cell_type": "code",
   "execution_count": 18,
   "id": "4a6369db",
   "metadata": {},
   "outputs": [],
   "source": [
    "tracks = tracks.sort_values(by=['popularity'], ascending=False).head(10000)"
   ]
  },
  {
   "cell_type": "code",
   "execution_count": 24,
   "id": "1e1e218a",
   "metadata": {},
   "outputs": [],
   "source": [
    "def get_similarities(song_name, data):\n",
    "   \n",
    "  # get vector for the input song\n",
    "  text_array1 = song_vectorizer.transform(data[data['name']==song_name]['genres']).toarray()\n",
    "  num_array1 = data[data['name']==song_name].select_dtypes(include=np.number).to_numpy()\n",
    "   \n",
    "  # store similarity for each row of the dataset\n",
    "  sim = []\n",
    "  for idx, row in data.iterrows():\n",
    "    name = row['name']\n",
    "     \n",
    "    # get vector for current song\n",
    "    text_array2 = song_vectorizer.transform(data[data['name']==name]['genres']).toarray()\n",
    "    num_array2 = data[data['name']==name].select_dtypes(include=np.number).to_numpy()\n",
    " \n",
    "    # calculate similarities for text and numeric features\n",
    "    text_sim = cosine_similarity(text_array1, text_array2)[0][0]\n",
    "    num_sim = cosine_similarity(num_array1, num_array2)[0][0]\n",
    "    sim.append(text_sim + num_sim)\n",
    "     \n",
    "  return sim"
   ]
  },
  {
   "cell_type": "code",
   "execution_count": 25,
   "id": "c3b27f73",
   "metadata": {},
   "outputs": [],
   "source": [
    "def recommend_songs(song_name, data=tracks):\n",
    "  # Base case\n",
    "  if tracks[tracks['name'] == song_name].shape[0] == 0:\n",
    "        \n",
    "    print('This song is either not so popular or you\\\n",
    "    have entered invalid_name.\\n Some songs you may like:\\n')\n",
    "     \n",
    "    for song in data.sample(n=5)['name'].values:\n",
    "      print(song)\n",
    "    return\n",
    "   \n",
    "  data['similarity_factor'] = get_similarities(song_name, data)\n",
    " \n",
    "  data.sort_values(by=['similarity_factor', 'popularity'],\n",
    "                   ascending = [False, False],\n",
    "                   inplace=True)\n",
    "   \n",
    "  # First song will be highest similarity.\n",
    "  display(data[['name', 'artists']][2:7])"
   ]
  },
  {
   "cell_type": "code",
   "execution_count": 21,
   "id": "a2a40a60",
   "metadata": {},
   "outputs": [
    {
     "data": {
      "text/html": [
       "<div>\n",
       "<style scoped>\n",
       "    .dataframe tbody tr th:only-of-type {\n",
       "        vertical-align: middle;\n",
       "    }\n",
       "\n",
       "    .dataframe tbody tr th {\n",
       "        vertical-align: top;\n",
       "    }\n",
       "\n",
       "    .dataframe thead th {\n",
       "        text-align: right;\n",
       "    }\n",
       "</style>\n",
       "<table border=\"1\" class=\"dataframe\">\n",
       "  <thead>\n",
       "    <tr style=\"text-align: right;\">\n",
       "      <th></th>\n",
       "      <th>name</th>\n",
       "      <th>artists</th>\n",
       "    </tr>\n",
       "  </thead>\n",
       "  <tbody>\n",
       "    <tr>\n",
       "      <th>90082</th>\n",
       "      <td>Supermarket Flowers</td>\n",
       "      <td>Ed Sheeran</td>\n",
       "    </tr>\n",
       "    <tr>\n",
       "      <th>91939</th>\n",
       "      <td>Bruises</td>\n",
       "      <td>Lewis Capaldi</td>\n",
       "    </tr>\n",
       "    <tr>\n",
       "      <th>91899</th>\n",
       "      <td>Before You Go</td>\n",
       "      <td>Lewis Capaldi</td>\n",
       "    </tr>\n",
       "    <tr>\n",
       "      <th>90741</th>\n",
       "      <td>What Do I Know?</td>\n",
       "      <td>Ed Sheeran</td>\n",
       "    </tr>\n",
       "    <tr>\n",
       "      <th>119306</th>\n",
       "      <td>Hearts Don't Break Around Here</td>\n",
       "      <td>Ed Sheeran</td>\n",
       "    </tr>\n",
       "  </tbody>\n",
       "</table>\n",
       "</div>"
      ],
      "text/plain": [
       "                                  name        artists\n",
       "90082              Supermarket Flowers     Ed Sheeran\n",
       "91939                          Bruises  Lewis Capaldi\n",
       "91899                    Before You Go  Lewis Capaldi\n",
       "90741                  What Do I Know?     Ed Sheeran\n",
       "119306  Hearts Don't Break Around Here     Ed Sheeran"
      ]
     },
     "metadata": {},
     "output_type": "display_data"
    }
   ],
   "source": [
    "recommend_songs('Shape of You')"
   ]
  },
  {
   "cell_type": "code",
   "execution_count": 22,
   "id": "fb6a0d90",
   "metadata": {},
   "outputs": [
    {
     "name": "stdout",
     "output_type": "stream",
     "text": [
      "This song is either not so popular or you    have entered invalid_name.\n",
      " Some songs you may like:\n",
      "\n",
      "1985 - Intro to “The Fall Off”\n",
      "Stand By You\n",
      "Saturday Sun\n",
      "Coffee & TV\n",
      "HWAA\n"
     ]
    }
   ],
   "source": [
    "recommend_songs('Love me like you do')"
   ]
  },
  {
   "cell_type": "code",
   "execution_count": 23,
   "id": "270e7a84",
   "metadata": {},
   "outputs": [
    {
     "name": "stdout",
     "output_type": "stream",
     "text": [
      "This song is either not so popular or you    have entered invalid_name.\n",
      " Some songs you may like:\n",
      "\n",
      "I CAN'T STOP ME\n",
      "Lonely Together (feat. Rita Ora)\n",
      "gold rush\n",
      "Without Me\n",
      "Big Black Car\n"
     ]
    }
   ],
   "source": [
    " recommend_songs('Lady of the Evening')"
   ]
  },
  {
   "cell_type": "code",
   "execution_count": null,
   "id": "30d3b19d",
   "metadata": {},
   "outputs": [],
   "source": []
  }
 ],
 "metadata": {
  "kernelspec": {
   "display_name": "Python 3 (ipykernel)",
   "language": "python",
   "name": "python3"
  },
  "language_info": {
   "codemirror_mode": {
    "name": "ipython",
    "version": 3
   },
   "file_extension": ".py",
   "mimetype": "text/x-python",
   "name": "python",
   "nbconvert_exporter": "python",
   "pygments_lexer": "ipython3",
   "version": "3.9.5"
  }
 },
 "nbformat": 4,
 "nbformat_minor": 5
}
